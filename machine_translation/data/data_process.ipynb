{
 "cells": [
  {
   "cell_type": "markdown",
   "source": [
    "## 1. 数据准备\n",
    "\n",
    "数据集使用的是IWSLT 2015，数据集的下载地址为： https://wit3.fbk.eu/2015-01"
   ],
   "metadata": {
    "collapsed": false,
    "pycharm": {
     "name": "#%% md\n"
    }
   }
  },
  {
   "cell_type": "code",
   "execution_count": 1,
   "outputs": [
    {
     "name": "stdout",
     "output_type": "stream",
     "text": [
      "2015-01.tgz  data_process.ipynb\r\n"
     ]
    }
   ],
   "source": [
    "!ls"
   ],
   "metadata": {
    "collapsed": false,
    "pycharm": {
     "name": "#%%\n"
    }
   }
  },
  {
   "cell_type": "code",
   "execution_count": 2,
   "outputs": [
    {
     "name": "stdout",
     "output_type": "stream",
     "text": [
      "2015-01/\r\n",
      "2015-01/subeval_files/\r\n",
      "2015-01/._subjeval.html\r\n",
      "2015-01/subjeval.html\r\n",
      "2015-01/texts/\r\n",
      "2015-01/._texts.html\r\n",
      "2015-01/texts.html\r\n",
      "2015-01/._tools.html\r\n",
      "2015-01/tools.html\r\n",
      "2015-01/texts/cs/\r\n",
      "2015-01/texts/de/\r\n",
      "2015-01/texts/en/\r\n",
      "2015-01/texts/fr/\r\n",
      "2015-01/texts/th/\r\n",
      "2015-01/texts/vi/\r\n",
      "2015-01/texts/zh/\r\n",
      "2015-01/texts/zh/en/\r\n",
      "2015-01/texts/zh/en/._.eval\r\n",
      "2015-01/texts/zh/en/.eval\r\n",
      "2015-01/texts/zh/en/._.info\r\n",
      "2015-01/texts/zh/en/.info\r\n",
      "2015-01/texts/zh/en/._zh-en.tgz\r\n",
      "2015-01/texts/zh/en/zh-en.tgz\r\n",
      "2015-01/texts/vi/en/\r\n",
      "2015-01/texts/vi/en/._.eval\r\n",
      "2015-01/texts/vi/en/.eval\r\n",
      "2015-01/texts/vi/en/._.info\r\n",
      "2015-01/texts/vi/en/.info\r\n",
      "2015-01/texts/vi/en/._vi-en.tgz\r\n",
      "2015-01/texts/vi/en/vi-en.tgz\r\n",
      "2015-01/texts/th/en/\r\n",
      "2015-01/texts/th/en/._.eval\r\n",
      "2015-01/texts/th/en/.eval\r\n",
      "2015-01/texts/th/en/._.info\r\n",
      "2015-01/texts/th/en/.info\r\n",
      "2015-01/texts/th/en/._th-en.tgz\r\n",
      "2015-01/texts/th/en/th-en.tgz\r\n",
      "2015-01/texts/fr/en/\r\n",
      "2015-01/texts/fr/en/._.eval\r\n",
      "2015-01/texts/fr/en/.eval\r\n",
      "2015-01/texts/fr/en/._.info\r\n",
      "2015-01/texts/fr/en/.info\r\n",
      "2015-01/texts/fr/en/._fr-en.tgz\r\n",
      "2015-01/texts/fr/en/fr-en.tgz\r\n",
      "2015-01/texts/en/cs/\r\n",
      "2015-01/texts/en/de/\r\n",
      "2015-01/texts/en/fr/\r\n",
      "2015-01/texts/en/th/\r\n",
      "2015-01/texts/en/vi/\r\n",
      "2015-01/texts/en/zh/\r\n",
      "2015-01/texts/en/zh/._.eval\r\n",
      "2015-01/texts/en/zh/.eval\r\n",
      "2015-01/texts/en/zh/._.info\r\n",
      "2015-01/texts/en/zh/.info\r\n",
      "2015-01/texts/en/zh/._en-zh.tgz\r\n",
      "2015-01/texts/en/zh/en-zh.tgz\r\n",
      "2015-01/texts/en/vi/._.eval\r\n",
      "2015-01/texts/en/vi/.eval\r\n",
      "2015-01/texts/en/vi/._.info\r\n",
      "2015-01/texts/en/vi/.info\r\n",
      "2015-01/texts/en/vi/._en-vi.tgz\r\n",
      "2015-01/texts/en/vi/en-vi.tgz\r\n",
      "2015-01/texts/en/th/._.eval\r\n",
      "2015-01/texts/en/th/.eval\r\n",
      "2015-01/texts/en/th/._.info\r\n",
      "2015-01/texts/en/th/.info\r\n",
      "2015-01/texts/en/th/._en-th.tgz\r\n",
      "2015-01/texts/en/th/en-th.tgz\r\n",
      "2015-01/texts/en/fr/._.eval\r\n",
      "2015-01/texts/en/fr/.eval\r\n",
      "2015-01/texts/en/fr/._.info\r\n",
      "2015-01/texts/en/fr/.info\r\n",
      "2015-01/texts/en/fr/._en-fr.tgz\r\n",
      "2015-01/texts/en/fr/en-fr.tgz\r\n",
      "2015-01/texts/en/de/._.eval\r\n",
      "2015-01/texts/en/de/.eval\r\n",
      "2015-01/texts/en/de/._.info\r\n",
      "2015-01/texts/en/de/.info\r\n",
      "2015-01/texts/en/de/._en-de.tgz\r\n",
      "2015-01/texts/en/de/en-de.tgz\r\n",
      "2015-01/texts/en/cs/._.eval\r\n",
      "2015-01/texts/en/cs/.eval\r\n",
      "2015-01/texts/en/cs/._.info\r\n",
      "2015-01/texts/en/cs/.info\r\n",
      "2015-01/texts/en/cs/._en-cs.tgz\r\n",
      "2015-01/texts/en/cs/en-cs.tgz\r\n",
      "2015-01/texts/de/en/\r\n",
      "2015-01/texts/de/en/._.eval\r\n",
      "2015-01/texts/de/en/.eval\r\n",
      "2015-01/texts/de/en/._.info\r\n",
      "2015-01/texts/de/en/.info\r\n",
      "2015-01/texts/de/en/._de-en.tgz\r\n",
      "2015-01/texts/de/en/de-en.tgz\r\n",
      "2015-01/texts/cs/en/\r\n",
      "2015-01/texts/cs/en/._.eval\r\n",
      "2015-01/texts/cs/en/.eval\r\n",
      "2015-01/texts/cs/en/._.info\r\n",
      "2015-01/texts/cs/en/.info\r\n",
      "2015-01/texts/cs/en/._cs-en.tgz\r\n",
      "2015-01/texts/cs/en/cs-en.tgz\r\n",
      "2015-01/subeval_files/._IWSLT15-HE-RELEASE.zip\r\n",
      "2015-01/subeval_files/IWSLT15-HE-RELEASE.zip\r\n"
     ]
    }
   ],
   "source": [
    "!tar -xvf 2015-01.tgz"
   ],
   "metadata": {
    "collapsed": false,
    "pycharm": {
     "name": "#%%\n"
    }
   }
  },
  {
   "cell_type": "code",
   "execution_count": 3,
   "outputs": [
    {
     "name": "stdout",
     "output_type": "stream",
     "text": [
      "zh-en/\r\n",
      "zh-en/IWSLT15.TED.dev2010.zh-en.en.xml\r\n",
      "zh-en/IWSLT15.TED.dev2010.zh-en.zh.xml\r\n",
      "zh-en/IWSLT15.TED.tst2010.zh-en.en.xml\r\n",
      "zh-en/IWSLT15.TED.tst2010.zh-en.zh.xml\r\n",
      "zh-en/IWSLT15.TED.tst2011.zh-en.en.xml\r\n",
      "zh-en/IWSLT15.TED.tst2011.zh-en.zh.xml\r\n",
      "zh-en/IWSLT15.TED.tst2012.zh-en.en.xml\r\n",
      "zh-en/IWSLT15.TED.tst2012.zh-en.zh.xml\r\n",
      "zh-en/IWSLT15.TED.tst2013.zh-en.en.xml\r\n",
      "zh-en/IWSLT15.TED.tst2013.zh-en.zh.xml\r\n",
      "zh-en/README\r\n",
      "zh-en/train.en\r\n",
      "zh-en/train.tags.zh-en.en\r\n",
      "zh-en/train.tags.zh-en.zh\r\n"
     ]
    }
   ],
   "source": [
    "!tar -xvf 2015-01/texts/zh/en/zh-en.tgz"
   ],
   "metadata": {
    "collapsed": false,
    "pycharm": {
     "name": "#%%\n"
    }
   }
  },
  {
   "cell_type": "code",
   "execution_count": 4,
   "outputs": [],
   "source": [
    "en_dir = 'zh-en/train.tags.zh-en.en'\n",
    "zh_dir = 'zh-en/train.tags.zh-en.zh'"
   ],
   "metadata": {
    "collapsed": false,
    "pycharm": {
     "name": "#%%\n"
    }
   }
  },
  {
   "cell_type": "code",
   "execution_count": 5,
   "outputs": [
    {
     "name": "stderr",
     "output_type": "stream",
     "text": [
      "223685it [00:00, 303605.59it/s]\n"
     ]
    }
   ],
   "source": [
    "from tqdm import tqdm\n",
    "\n",
    "def filter_out_html(filename1, filename2):\n",
    "    \"\"\"\n",
    "    过滤掉数据中html信息，只保留文本信息\n",
    "    \"\"\"\n",
    "    f1 = open(filename1, 'r')\n",
    "    f2 = open(filename2, 'r')\n",
    "\n",
    "    data1 = f1.readlines()\n",
    "    data2 = f2.readlines()\n",
    "    # 检查翻译文本对数目是否一致\n",
    "    assert len(data1) == len(data2)\n",
    "\n",
    "    fw1 = open(filename1 + '.txt', 'w')\n",
    "    fw2 = open(filename2 + '.txt', 'w')\n",
    "\n",
    "    for line1, line2 in tqdm(zip(data1, data2)):\n",
    "        line1 = line1.strip()\n",
    "        line2 = line2.strip()\n",
    "\n",
    "        if line1 and line2:\n",
    "            if '<' not in line1 and '>' not in line1 and '<' not in line2 and '>' not in line2:\n",
    "                fw1.write(line1 + '\\n')\n",
    "                fw2.write(line2 + '\\n')\n",
    "\n",
    "    fw1.close()\n",
    "    f1.close()\n",
    "    fw2.close()\n",
    "    f2.close()\n",
    "\n",
    "\n",
    "filter_out_html(en_dir, zh_dir)"
   ],
   "metadata": {
    "collapsed": false,
    "pycharm": {
     "name": "#%%\n"
    }
   }
  },
  {
   "cell_type": "code",
   "execution_count": 7,
   "outputs": [
    {
     "name": "stdout",
     "output_type": "stream",
     "text": [
      "Source:   对我来说 在世界各地旅行 和从事人类学研究的生涯中 最大的乐趣之一莫过于 体验那些没有忘记传统的族群的生活 沐浴在微风中 触摸被雨水冲洗得晶莹光亮的石头 尝着苦叶的味道 你能感受到他们的历史 \n",
      "Target:   You know, one of the intense pleasures of travel and one of the delights of ethnographic research is the opportunity to live amongst those who have not forgotten the old ways, who still feel their past in the wind, touch it in stones polished by rain, taste it in the bitter leaves of plants. \n"
     ]
    }
   ],
   "source": [
    "import xml.etree.ElementTree as ET\n",
    "\n",
    "# 处理验证数据\n",
    "tree_source_dev = ET.parse('zh-en/IWSLT15.TED.dev2010.zh-en.zh.xml')\n",
    "tree_source_dev = [seg.text for seg in tree_source_dev.iter('seg')]\n",
    "\n",
    "tree_target_dev = ET.parse('zh-en/IWSLT15.TED.dev2010.zh-en.en.xml')\n",
    "tree_target_dev = [seg.text for seg in tree_target_dev.iter('seg')]\n",
    "\n",
    "print('Source: ', tree_source_dev[0])\n",
    "print('Target: ', tree_target_dev[0])"
   ],
   "metadata": {
    "collapsed": false,
    "pycharm": {
     "name": "#%%\n"
    }
   }
  },
  {
   "cell_type": "code",
   "execution_count": 9,
   "outputs": [],
   "source": [
    "with open('zh-en/dev_cn.txt', 'w') as f:\n",
    "    for item in tree_source_dev:\n",
    "        f.write(item + '\\n')\n",
    "\n",
    "with open('zh-en/dev_en.txt', 'w') as f:\n",
    "    for item in tree_target_dev:\n",
    "        f.write(item + '\\n')"
   ],
   "metadata": {
    "collapsed": false,
    "pycharm": {
     "name": "#%%\n"
    }
   }
  },
  {
   "cell_type": "code",
   "execution_count": 10,
   "outputs": [
    {
     "name": "stdout",
     "output_type": "stream",
     "text": [
      "Source:   有一天， 洛杉矶时报的专栏作家 Steve Lopez走在洛杉矶 大街上 听到一曲美妙的乐曲 \n",
      "Target:   One day, Los Angeles Times columnist Steve Lopez was walking along the streets of downtown Los Angeles when he heard beautiful music. \n"
     ]
    }
   ],
   "source": [
    "# 处理测试数据\n",
    "tree_source_test = ET.parse('zh-en/IWSLT15.TED.tst2010.zh-en.zh.xml')\n",
    "tree_source_test = [seg.text for seg in tree_source_test.iter('seg')]\n",
    "\n",
    "tree_target_test = ET.parse('zh-en/IWSLT15.TED.tst2010.zh-en.en.xml')\n",
    "tree_target_test = [seg.text for seg in tree_target_test.iter('seg')]\n",
    "\n",
    "print('Source: ', tree_source_test[0])\n",
    "print('Target: ', tree_target_test[0])"
   ],
   "metadata": {
    "collapsed": false,
    "pycharm": {
     "name": "#%%\n"
    }
   }
  },
  {
   "cell_type": "code",
   "execution_count": 11,
   "outputs": [],
   "source": [
    "with open('zh-en/test_cn.txt', 'w') as f:\n",
    "    for item in tree_source_test:\n",
    "        f.write(item + '\\n')\n",
    "\n",
    "with open('zh-en/test_en.txt', 'w') as f:\n",
    "    for item in tree_target_test:\n",
    "        f.write(item + '\\n')"
   ],
   "metadata": {
    "collapsed": false,
    "pycharm": {
     "name": "#%%\n"
    }
   }
  },
  {
   "cell_type": "markdown",
   "source": [
    "## 2. 数据预处理\n",
    "### 2.1 Jieba分词"
   ],
   "metadata": {
    "collapsed": false,
    "pycharm": {
     "name": "#%% md\n"
    }
   }
  },
  {
   "cell_type": "code",
   "execution_count": 12,
   "outputs": [],
   "source": [
    "import jieba\n",
    "\n",
    "def jieba_cut(in_file, out_file):\n",
    "    \"\"\"\n",
    "    中文jieba分词\n",
    "    \"\"\"\n",
    "    out_f = open(out_file, 'w', encoding='utf-8')\n",
    "    with open(in_file, 'r', encoding='utf-8') as f:\n",
    "        for line in f.readlines():\n",
    "            line = line.strip()\n",
    "            if not line:\n",
    "                continue\n",
    "            cut_line = ' '.join(jieba.cut(line))\n",
    "            out_f.write(cut_line + '\\n')\n",
    "        out_f.close()"
   ],
   "metadata": {
    "collapsed": false,
    "pycharm": {
     "name": "#%%\n"
    }
   }
  },
  {
   "cell_type": "code",
   "execution_count": 13,
   "outputs": [
    {
     "name": "stderr",
     "output_type": "stream",
     "text": [
      "Building prefix dict from the default dictionary ...\n",
      "Dumping model to file cache /tmp/jieba.cache\n",
      "Loading model cost 1.696 seconds.\n",
      "Prefix dict has been built successfully.\n"
     ]
    }
   ],
   "source": [
    "zh_dir = 'zh-en/train.tags.zh-en.zh.txt'\n",
    "cut_zh_dir = 'zh-en/train.tags.zh-en.zh.cut.txt'\n",
    "jieba_cut(zh_dir, cut_zh_dir)"
   ],
   "metadata": {
    "collapsed": false,
    "pycharm": {
     "name": "#%%\n"
    }
   }
  },
  {
   "cell_type": "code",
   "execution_count": 14,
   "outputs": [],
   "source": [
    "zh_dir = 'zh-en/dev_cn.txt'\n",
    "cut_zh_dir = 'zh-en/dev_cn.cut.txt'\n",
    "jieba_cut(zh_dir, cut_zh_dir)"
   ],
   "metadata": {
    "collapsed": false,
    "pycharm": {
     "name": "#%%\n"
    }
   }
  },
  {
   "cell_type": "code",
   "execution_count": 15,
   "outputs": [],
   "source": [
    "zh_dir = 'zh-en/test_cn.txt'\n",
    "cut_zh_dir = 'zh-en/test_cn.cut.txt'\n",
    "jieba_cut(zh_dir, cut_zh_dir)"
   ],
   "metadata": {
    "collapsed": false,
    "pycharm": {
     "name": "#%%\n"
    }
   }
  },
  {
   "cell_type": "markdown",
   "source": [
    "### 2.2 BPE分词"
   ],
   "metadata": {
    "collapsed": false,
    "pycharm": {
     "name": "#%% md\n"
    }
   }
  },
  {
   "cell_type": "code",
   "execution_count": 16,
   "outputs": [
    {
     "name": "stdout",
     "output_type": "stream",
     "text": [
      "Looking in indexes: https://pypi.tuna.tsinghua.edu.cn/simple\r\n",
      "Collecting subword-nmt==0.3.7\r\n",
      "  Downloading https://pypi.tuna.tsinghua.edu.cn/packages/74/60/6600a7bc09e7ab38bc53a48a20d8cae49b837f93f5842a41fe513a694912/subword_nmt-0.3.7-py2.py3-none-any.whl (26 kB)\r\n",
      "Installing collected packages: subword-nmt\r\n",
      "Successfully installed subword-nmt-0.3.7\r\n"
     ]
    }
   ],
   "source": [
    "!pip install subword-nmt==0.3.7"
   ],
   "metadata": {
    "collapsed": false,
    "pycharm": {
     "name": "#%%\n"
    }
   }
  },
  {
   "cell_type": "markdown",
   "source": [
    "#### 2.2.1 bpe学习"
   ],
   "metadata": {
    "collapsed": false,
    "pycharm": {
     "name": "#%% md\n"
    }
   }
  },
  {
   "cell_type": "code",
   "execution_count": 17,
   "outputs": [],
   "source": [
    "!subword-nmt learn-bpe -s 32000 < zh-en/train.tags.zh-en.zh.cut.txt > zh-en/bpe.ch.32000\n",
    "!subword-nmt learn-bpe -s 32000 < zh-en/train.tags.zh-en.en.txt > zh-en/bpe.en.32000"
   ],
   "metadata": {
    "collapsed": false,
    "pycharm": {
     "name": "#%%\n"
    }
   }
  },
  {
   "cell_type": "markdown",
   "source": [
    "#### 2.2.2 bpe分词"
   ],
   "metadata": {
    "collapsed": false,
    "pycharm": {
     "name": "#%% md\n"
    }
   }
  },
  {
   "cell_type": "code",
   "execution_count": 18,
   "outputs": [],
   "source": [
    "!subword-nmt apply-bpe -c zh-en/bpe.ch.32000 < zh-en/train.tags.zh-en.zh.cut.txt > zh-en/train.ch.bpe\n",
    "!subword-nmt apply-bpe -c zh-en/bpe.ch.32000 < zh-en/dev_cn.cut.txt > zh-en/dev.ch.bpe\n",
    "!subword-nmt apply-bpe -c zh-en/bpe.ch.32000 < zh-en/test_cn.cut.txt > zh-en/test.ch.bpe\n",
    "\n",
    "!subword-nmt apply-bpe -c zh-en/bpe.en.32000 < zh-en/train.tags.zh-en.en.txt > zh-en/train.en.bpe\n",
    "!subword-nmt apply-bpe -c zh-en/bpe.en.32000 < zh-en/dev_en.txt > zh-en/dev.en.bpe\n",
    "!subword-nmt apply-bpe -c zh-en/bpe.en.32000 < zh-en/test_en.txt > zh-en/test.en.bpe"
   ],
   "metadata": {
    "collapsed": false,
    "pycharm": {
     "name": "#%%\n"
    }
   }
  },
  {
   "cell_type": "markdown",
   "source": [
    "### 2.3 构造词典"
   ],
   "metadata": {
    "collapsed": false,
    "pycharm": {
     "name": "#%% md\n"
    }
   }
  },
  {
   "cell_type": "code",
   "execution_count": 19,
   "outputs": [],
   "source": [
    "# 中文词典的构建\n",
    "!subword-nmt get-vocab -i zh-en/train.ch.bpe -o zh-en/temp"
   ],
   "metadata": {
    "collapsed": false,
    "pycharm": {
     "name": "#%%\n"
    }
   }
  },
  {
   "cell_type": "code",
   "execution_count": 20,
   "outputs": [],
   "source": [
    "special_token = ['<s>', '<e>', '<unk>']\n",
    "\n",
    "ch_vocab = []\n",
    "with open('zh-en/temp') as f:\n",
    "    for item in f.readlines():\n",
    "        words = item.strip().split()\n",
    "        ch_vocab.append(words[0])\n",
    "\n",
    "with open('zh-en/vocab.ch.src', 'w') as f:\n",
    "    for item in special_token:\n",
    "        f.write(item + '\\n')\n",
    "\n",
    "    for item in ch_vocab:\n",
    "        f.write(item + '\\n')"
   ],
   "metadata": {
    "collapsed": false,
    "pycharm": {
     "name": "#%%\n"
    }
   }
  },
  {
   "cell_type": "code",
   "execution_count": 21,
   "outputs": [],
   "source": [
    "# 英文词典的构造\n",
    "!subword-nmt get-vocab -i zh-en/train.en.bpe -o zh-en/temp"
   ],
   "metadata": {
    "collapsed": false,
    "pycharm": {
     "name": "#%%\n"
    }
   }
  },
  {
   "cell_type": "code",
   "execution_count": 22,
   "outputs": [],
   "source": [
    "en_vocab = []\n",
    "with open('zh-en/temp', 'r') as f:\n",
    "    for item in f.readlines():\n",
    "        words = item.strip().split()\n",
    "        en_vocab.append(words[0])\n",
    "\n",
    "with open('zh-en/vocab.en.tgt', 'w') as f:\n",
    "    for item in special_token:\n",
    "        f.write(item + '\\n')\n",
    "    for item in en_vocab:\n",
    "        f.write(item + '\\n')"
   ],
   "metadata": {
    "collapsed": false,
    "pycharm": {
     "name": "#%%\n"
    }
   }
  },
  {
   "cell_type": "markdown",
   "source": [
    "## 3. 数据集的划分"
   ],
   "metadata": {
    "collapsed": false,
    "pycharm": {
     "name": "#%% md\n"
    }
   }
  },
  {
   "cell_type": "markdown",
   "source": [
    "### 3.1 训练集"
   ],
   "metadata": {
    "collapsed": false,
    "pycharm": {
     "name": "#%% md\n"
    }
   }
  },
  {
   "cell_type": "code",
   "execution_count": 23,
   "outputs": [
    {
     "name": "stdout",
     "output_type": "stream",
     "text": [
      "['大卫 . 盖@@ 罗 ： 这位 是 比尔 . 兰@@ 格 ， 我 是 大卫 . 盖@@ 罗 。', '我们 将 用 一些 影片 来 讲述 一些 深海 里 的 故事 。']\n",
      "[\"This is Bill Lang@@ e. I'm Dave Gal@@ lo.\", \"And we're going to tell you some stories from the sea here in video.\"]\n"
     ]
    }
   ],
   "source": [
    "ch_data = []\n",
    "with open('zh-en/train.ch.bpe', 'r') as f:\n",
    "    for item in f.readlines():\n",
    "        words = item.strip()\n",
    "        ch_data.append(words)\n",
    "\n",
    "en_data = []\n",
    "with open('zh-en/train.en.bpe', 'r') as f:\n",
    "    for item in f.readlines():\n",
    "        words = item.strip()\n",
    "        en_data.append(words)\n",
    "\n",
    "print(ch_data[:2])\n",
    "print(en_data[:2])"
   ],
   "metadata": {
    "collapsed": false,
    "pycharm": {
     "name": "#%%\n"
    }
   }
  },
  {
   "cell_type": "markdown",
   "source": [
    "### 3.2 验证集"
   ],
   "metadata": {
    "collapsed": false,
    "pycharm": {
     "name": "#%% md\n"
    }
   }
  },
  {
   "cell_type": "code",
   "execution_count": 24,
   "outputs": [
    {
     "name": "stdout",
     "output_type": "stream",
     "text": [
      "['对 我 来说 在 世界各地 旅行 和 从事 人类学 研究 的 生涯 中 最大 的 乐趣 之一 莫过于 体验 那些 没有 忘记 传统 的 族群 的 生活 沐浴 在 微风 中 触摸 被 雨水 冲洗 得 晶@@ 莹 光亮 的 石头 尝@@ 着 苦@@ 叶 的 味道 你 能 感受 到 他们 的 历史', '在 萨@@ 满@@ 教 的 传说 中 老虎 要 跨越 银河 因@@ 纽@@ 特 老人 的 神话 仍然 引起 后人 的 共鸣 或者 在 喜马拉雅山 佛教徒 还 在 追随 法@@ 门 这 让 我们 想起 人类学 的 核心 揭示 它 的 思想 要@@ 义 是 我们 生活 的 世界 不是 存在 于 一个 绝对 的 意识 之中 而 只是 一个 现实 模型 只是 一种 适应性 选择 的 结果 我们 的 祖先 在 很多 世代 以前 就 成功 地 做出 了 这种 选择']\n",
      "['You know, one of the intense pleasures of travel and one of the del@@ ights of eth@@ no@@ graphic research is the opportunity to live amongst those who have not forgotten the old ways, who still feel their past in the wind, touch it in stones polish@@ ed by rain, taste it in the bitter leaves of plants.', 'Just to know that J@@ agu@@ ar sha@@ man@@ s still journey beyond the Milky W@@ ay, or the myths of the Inuit elders still resonate with meaning, or that in the Himalay@@ a, the Budd@@ hist@@ s still pursue the breath of the D@@ har@@ ma, is to really remember the central revelation of anthropo@@ logy, and that is the idea that the world in which we live does not exist in some absolute sense, but is just one model of reality, the consequence of one particular set of adaptive choices that our line@@ age made, albeit success@@ fully, many generations ago.']\n"
     ]
    }
   ],
   "source": [
    "ch_data = []\n",
    "with open('zh-en/dev.ch.bpe', 'r') as f:\n",
    "    for item in f.readlines():\n",
    "        words = item.strip()\n",
    "        ch_data.append(words)\n",
    "\n",
    "en_data = []\n",
    "with open('zh-en/dev.en.bpe', 'r') as f:\n",
    "    for item in f.readlines():\n",
    "        words = item.strip()\n",
    "        en_data.append(words)\n",
    "\n",
    "print(ch_data[:2])\n",
    "print(en_data[:2])"
   ],
   "metadata": {
    "collapsed": false,
    "pycharm": {
     "name": "#%%\n"
    }
   }
  },
  {
   "cell_type": "markdown",
   "source": [
    "### 3.3 测试集"
   ],
   "metadata": {
    "collapsed": false,
    "pycharm": {
     "name": "#%% md\n"
    }
   }
  },
  {
   "cell_type": "code",
   "execution_count": 25,
   "outputs": [
    {
     "name": "stdout",
     "output_type": "stream",
     "text": [
      "['有 一天 ， 洛杉矶 时报 的 专@@ 栏@@ 作家 Steve L@@ op@@ ez 走 在 洛杉矶 大街 上 听到 一曲 美妙 的 乐曲', '音乐 是从 一个 男人 一个 非裔 男人 一个 颇 有 魅力 ， 粗@@ 旷 的 流浪汉 用 一把 只 剩下 两根 弦 的 小提琴 在 演奏']\n",
      "['One day, Los Angeles Times colum@@ n@@ ist Steve Lo@@ pe@@ z was walking along the streets of downtown Los Angeles when he heard beautiful music.', 'And the source was a man, an African-American man, char@@ ming, rug@@ ged, hom@@ eless, playing a violin that only had two strings.']\n"
     ]
    }
   ],
   "source": [
    "ch_data = []\n",
    "with open('zh-en/test.ch.bpe', 'r') as f:\n",
    "    for item in f.readlines():\n",
    "        words = item.strip()\n",
    "        ch_data.append(words)\n",
    "\n",
    "en_data = []\n",
    "with open('zh-en/test.en.bpe', 'r') as f:\n",
    "    for item in f.readlines():\n",
    "        words = item.strip()\n",
    "        en_data.append(words)\n",
    "\n",
    "print(ch_data[:2])\n",
    "print(en_data[:2])"
   ],
   "metadata": {
    "collapsed": false,
    "pycharm": {
     "name": "#%%\n"
    }
   }
  },
  {
   "cell_type": "code",
   "execution_count": null,
   "outputs": [],
   "source": [],
   "metadata": {
    "collapsed": false,
    "pycharm": {
     "name": "#%%\n"
    }
   }
  }
 ],
 "metadata": {
  "kernelspec": {
   "display_name": "Python 3",
   "language": "python",
   "name": "python3"
  },
  "language_info": {
   "codemirror_mode": {
    "name": "ipython",
    "version": 2
   },
   "file_extension": ".py",
   "mimetype": "text/x-python",
   "name": "python",
   "nbconvert_exporter": "python",
   "pygments_lexer": "ipython2",
   "version": "2.7.6"
  }
 },
 "nbformat": 4,
 "nbformat_minor": 0
}